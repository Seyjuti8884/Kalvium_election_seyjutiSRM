{
 "cells": [
  {
   "cell_type": "code",
   "execution_count": 1,
   "id": "fb309e58",
   "metadata": {},
   "outputs": [
    {
     "name": "stderr",
     "output_type": "stream",
     "text": [
      "C:\\Users\\Seyjuti Banerjee\\anaconda3\\lib\\site-packages\\scipy\\__init__.py:146: UserWarning: A NumPy version >=1.16.5 and <1.23.0 is required for this version of SciPy (detected version 1.26.4\n",
      "  warnings.warn(f\"A NumPy version >={np_minversion} and <{np_maxversion}\"\n"
     ]
    }
   ],
   "source": [
    "import pandas as pd\n",
    "import numpy as np\n",
    "import matplotlib.pyplot as plt\n",
    "import seaborn as sns"
   ]
  },
  {
   "cell_type": "markdown",
   "id": "61245224",
   "metadata": {},
   "source": [
    "# Loading Dataset"
   ]
  },
  {
   "cell_type": "code",
   "execution_count": 2,
   "id": "2d13f7b3",
   "metadata": {},
   "outputs": [],
   "source": [
    "# Try reading the file with a different encoding\n",
    "df = pd.read_csv('Indian General Elections 2024.csv', \n",
    "                 encoding='latin1')"
   ]
  },
  {
   "cell_type": "code",
   "execution_count": 3,
   "id": "5a631f2c",
   "metadata": {},
   "outputs": [
    {
     "data": {
      "text/html": [
       "<div>\n",
       "<style scoped>\n",
       "    .dataframe tbody tr th:only-of-type {\n",
       "        vertical-align: middle;\n",
       "    }\n",
       "\n",
       "    .dataframe tbody tr th {\n",
       "        vertical-align: top;\n",
       "    }\n",
       "\n",
       "    .dataframe thead th {\n",
       "        text-align: right;\n",
       "    }\n",
       "</style>\n",
       "<table border=\"1\" class=\"dataframe\">\n",
       "  <thead>\n",
       "    <tr style=\"text-align: right;\">\n",
       "      <th></th>\n",
       "      <th>State/UT</th>\n",
       "      <th>Constituency</th>\n",
       "      <th>Const. No.</th>\n",
       "      <th>Leading Candidate</th>\n",
       "      <th>Leading Party</th>\n",
       "      <th>Trailing Candidate</th>\n",
       "      <th>Trailing Party</th>\n",
       "      <th>Margin</th>\n",
       "      <th>Status</th>\n",
       "    </tr>\n",
       "  </thead>\n",
       "  <tbody>\n",
       "    <tr>\n",
       "      <th>0</th>\n",
       "      <td>Andaman &amp; Nicobar Islands</td>\n",
       "      <td>Andaman &amp; Nicobar Islands</td>\n",
       "      <td>1</td>\n",
       "      <td>BISHNU PADA RAY</td>\n",
       "      <td>Bharatiya Janata Party</td>\n",
       "      <td>KULDEEP RAI SHARMA</td>\n",
       "      <td>Indian National Congress</td>\n",
       "      <td>24396</td>\n",
       "      <td>Result Declared</td>\n",
       "    </tr>\n",
       "    <tr>\n",
       "      <th>1</th>\n",
       "      <td>Andhra Pradesh</td>\n",
       "      <td>Amalapuram (SC)</td>\n",
       "      <td>7</td>\n",
       "      <td>G M HARISH (BALAYOGI)</td>\n",
       "      <td>Telugu Desam</td>\n",
       "      <td>RAPAKA VARAPRASADA RAO</td>\n",
       "      <td>Yuvajana Sramika Rythu Congress Party</td>\n",
       "      <td>342196</td>\n",
       "      <td>Result Declared</td>\n",
       "    </tr>\n",
       "    <tr>\n",
       "      <th>2</th>\n",
       "      <td>Andhra Pradesh</td>\n",
       "      <td>Anakapalle</td>\n",
       "      <td>5</td>\n",
       "      <td>C.M.RAMESH</td>\n",
       "      <td>Bharatiya Janata Party</td>\n",
       "      <td>BUDI MUTYALA NAIDU</td>\n",
       "      <td>Yuvajana Sramika Rythu Congress Party</td>\n",
       "      <td>296530</td>\n",
       "      <td>Result Declared</td>\n",
       "    </tr>\n",
       "    <tr>\n",
       "      <th>3</th>\n",
       "      <td>Andhra Pradesh</td>\n",
       "      <td>Ananthapur</td>\n",
       "      <td>19</td>\n",
       "      <td>AMBICA G LAKSHMINARAYANA VALMIKI</td>\n",
       "      <td>Telugu Desam</td>\n",
       "      <td>MALAGUNDLA SANKAR NARAYANA</td>\n",
       "      <td>Yuvajana Sramika Rythu Congress Party</td>\n",
       "      <td>188555</td>\n",
       "      <td>Result Declared</td>\n",
       "    </tr>\n",
       "    <tr>\n",
       "      <th>4</th>\n",
       "      <td>Andhra Pradesh</td>\n",
       "      <td>Araku (ST)</td>\n",
       "      <td>1</td>\n",
       "      <td>GUMMA THANUJA RANI</td>\n",
       "      <td>Yuvajana Sramika Rythu Congress Party</td>\n",
       "      <td>KOTHAPALLI GEETHA</td>\n",
       "      <td>Bharatiya Janata Party</td>\n",
       "      <td>50580</td>\n",
       "      <td>Result Declared</td>\n",
       "    </tr>\n",
       "  </tbody>\n",
       "</table>\n",
       "</div>"
      ],
      "text/plain": [
       "                    State/UT               Constituency  Const. No.  \\\n",
       "0  Andaman & Nicobar Islands  Andaman & Nicobar Islands           1   \n",
       "1             Andhra Pradesh            Amalapuram (SC)           7   \n",
       "2             Andhra Pradesh                 Anakapalle           5   \n",
       "3             Andhra Pradesh                 Ananthapur          19   \n",
       "4             Andhra Pradesh                 Araku (ST)           1   \n",
       "\n",
       "                  Leading Candidate                          Leading Party  \\\n",
       "0                   BISHNU PADA RAY                 Bharatiya Janata Party   \n",
       "1             G M HARISH (BALAYOGI)                           Telugu Desam   \n",
       "2                        C.M.RAMESH                 Bharatiya Janata Party   \n",
       "3  AMBICA G LAKSHMINARAYANA VALMIKI                           Telugu Desam   \n",
       "4                GUMMA THANUJA RANI  Yuvajana Sramika Rythu Congress Party   \n",
       "\n",
       "           Trailing Candidate                         Trailing Party  Margin  \\\n",
       "0          KULDEEP RAI SHARMA               Indian National Congress   24396   \n",
       "1      RAPAKA VARAPRASADA RAO  Yuvajana Sramika Rythu Congress Party  342196   \n",
       "2          BUDI MUTYALA NAIDU  Yuvajana Sramika Rythu Congress Party  296530   \n",
       "3  MALAGUNDLA SANKAR NARAYANA  Yuvajana Sramika Rythu Congress Party  188555   \n",
       "4           KOTHAPALLI GEETHA                 Bharatiya Janata Party   50580   \n",
       "\n",
       "            Status  \n",
       "0  Result Declared  \n",
       "1  Result Declared  \n",
       "2  Result Declared  \n",
       "3  Result Declared  \n",
       "4  Result Declared  "
      ]
     },
     "execution_count": 3,
     "metadata": {},
     "output_type": "execute_result"
    }
   ],
   "source": [
    "df.head()"
   ]
  },
  {
   "cell_type": "code",
   "execution_count": 4,
   "id": "ae96d4c2",
   "metadata": {},
   "outputs": [
    {
     "name": "stdout",
     "output_type": "stream",
     "text": [
      "<class 'pandas.core.frame.DataFrame'>\n",
      "RangeIndex: 543 entries, 0 to 542\n",
      "Data columns (total 9 columns):\n",
      " #   Column              Non-Null Count  Dtype \n",
      "---  ------              --------------  ----- \n",
      " 0   State/UT            543 non-null    object\n",
      " 1   Constituency        543 non-null    object\n",
      " 2   Const. No.          543 non-null    int64 \n",
      " 3   Leading Candidate   543 non-null    object\n",
      " 4   Leading Party       543 non-null    object\n",
      " 5   Trailing Candidate  542 non-null    object\n",
      " 6   Trailing Party      542 non-null    object\n",
      " 7   Margin              543 non-null    object\n",
      " 8   Status              543 non-null    object\n",
      "dtypes: int64(1), object(8)\n",
      "memory usage: 38.3+ KB\n"
     ]
    }
   ],
   "source": [
    "df.info()"
   ]
  },
  {
   "cell_type": "markdown",
   "id": "3797593b",
   "metadata": {},
   "source": [
    "# Handling Duplicate Values"
   ]
  },
  {
   "cell_type": "code",
   "execution_count": 5,
   "id": "490bd582",
   "metadata": {},
   "outputs": [
    {
     "data": {
      "text/plain": [
       "0      False\n",
       "1      False\n",
       "2      False\n",
       "3      False\n",
       "4      False\n",
       "       ...  \n",
       "538    False\n",
       "539    False\n",
       "540    False\n",
       "541    False\n",
       "542    False\n",
       "Length: 543, dtype: bool"
      ]
     },
     "execution_count": 5,
     "metadata": {},
     "output_type": "execute_result"
    }
   ],
   "source": [
    "df.duplicated()"
   ]
  },
  {
   "cell_type": "markdown",
   "id": "935b2f7b",
   "metadata": {},
   "source": [
    "# Summary statistics for numerical columns"
   ]
  },
  {
   "cell_type": "code",
   "execution_count": 6,
   "id": "f7b3a098",
   "metadata": {},
   "outputs": [
    {
     "data": {
      "text/html": [
       "<div>\n",
       "<style scoped>\n",
       "    .dataframe tbody tr th:only-of-type {\n",
       "        vertical-align: middle;\n",
       "    }\n",
       "\n",
       "    .dataframe tbody tr th {\n",
       "        vertical-align: top;\n",
       "    }\n",
       "\n",
       "    .dataframe thead th {\n",
       "        text-align: right;\n",
       "    }\n",
       "</style>\n",
       "<table border=\"1\" class=\"dataframe\">\n",
       "  <thead>\n",
       "    <tr style=\"text-align: right;\">\n",
       "      <th></th>\n",
       "      <th>Const. No.</th>\n",
       "    </tr>\n",
       "  </thead>\n",
       "  <tbody>\n",
       "    <tr>\n",
       "      <th>count</th>\n",
       "      <td>543.000000</td>\n",
       "    </tr>\n",
       "    <tr>\n",
       "      <th>mean</th>\n",
       "      <td>18.178637</td>\n",
       "    </tr>\n",
       "    <tr>\n",
       "      <th>std</th>\n",
       "      <td>16.427840</td>\n",
       "    </tr>\n",
       "    <tr>\n",
       "      <th>min</th>\n",
       "      <td>1.000000</td>\n",
       "    </tr>\n",
       "    <tr>\n",
       "      <th>25%</th>\n",
       "      <td>6.000000</td>\n",
       "    </tr>\n",
       "    <tr>\n",
       "      <th>50%</th>\n",
       "      <td>14.000000</td>\n",
       "    </tr>\n",
       "    <tr>\n",
       "      <th>75%</th>\n",
       "      <td>25.000000</td>\n",
       "    </tr>\n",
       "    <tr>\n",
       "      <th>max</th>\n",
       "      <td>80.000000</td>\n",
       "    </tr>\n",
       "  </tbody>\n",
       "</table>\n",
       "</div>"
      ],
      "text/plain": [
       "       Const. No.\n",
       "count  543.000000\n",
       "mean    18.178637\n",
       "std     16.427840\n",
       "min      1.000000\n",
       "25%      6.000000\n",
       "50%     14.000000\n",
       "75%     25.000000\n",
       "max     80.000000"
      ]
     },
     "execution_count": 6,
     "metadata": {},
     "output_type": "execute_result"
    }
   ],
   "source": [
    "df.describe()"
   ]
  },
  {
   "cell_type": "markdown",
   "id": "db414f45",
   "metadata": {},
   "source": [
    "# Convert Margin to numeric if it represents numerical data"
   ]
  },
  {
   "cell_type": "code",
   "execution_count": 7,
   "id": "ba3a8e39",
   "metadata": {},
   "outputs": [],
   "source": [
    "# Convert Margin to numeric if it represents numerical data\n",
    "df['Margin'] = pd.to_numeric(df['Margin'], errors='coerce')"
   ]
  },
  {
   "cell_type": "markdown",
   "id": "1e548576",
   "metadata": {},
   "source": [
    "# Handling Missing values"
   ]
  },
  {
   "cell_type": "code",
   "execution_count": 8,
   "id": "ceefffb3",
   "metadata": {},
   "outputs": [
    {
     "data": {
      "text/plain": [
       "State/UT              0\n",
       "Constituency          0\n",
       "Const. No.            0\n",
       "Leading Candidate     0\n",
       "Leading Party         0\n",
       "Trailing Candidate    1\n",
       "Trailing Party        1\n",
       "Margin                1\n",
       "Status                0\n",
       "dtype: int64"
      ]
     },
     "execution_count": 8,
     "metadata": {},
     "output_type": "execute_result"
    }
   ],
   "source": [
    "df.isna().sum()"
   ]
  },
  {
   "cell_type": "code",
   "execution_count": 9,
   "id": "84f74c5f",
   "metadata": {},
   "outputs": [
    {
     "name": "stdout",
     "output_type": "stream",
     "text": [
      "       Const. No.        Margin\n",
      "count  543.000000  5.420000e+02\n",
      "mean    18.178637  1.623495e+05\n",
      "std     16.427840  1.472633e+05\n",
      "min      1.000000  4.800000e+01\n",
      "25%      6.000000  5.895675e+04\n",
      "50%     14.000000  1.222660e+05\n",
      "75%     25.000000  2.229720e+05\n",
      "max     80.000000  1.175092e+06\n",
      "             State/UT Constituency Leading Candidate           Leading Party  \\\n",
      "count             543          543               543                     543   \n",
      "unique             36          541               542                      42   \n",
      "top     Uttar Pradesh  Maharajganj      RAHUL GANDHI  Bharatiya Janata Party   \n",
      "freq               80            2                 2                     240   \n",
      "\n",
      "        Trailing Candidate            Trailing Party           Status  \n",
      "count                  542                       542              543  \n",
      "unique                 542                        42                3  \n",
      "top     KULDEEP RAI SHARMA  Indian National Congress  Result Declared  \n",
      "freq                     1                       167              538  \n",
      "Bharatiya Janata Party                                      240\n",
      "Indian National Congress                                     99\n",
      "Samajwadi Party                                              37\n",
      "All India Trinamool Congress                                 29\n",
      "Dravida Munnetra Kazhagam                                    22\n",
      "Telugu Desam                                                 16\n",
      "Janata Dal (United)                                          12\n",
      "Shiv Sena (Uddhav Balasaheb Thackrey)                         9\n",
      "Nationalist Congress Party  Sharadchandra Pawar              8\n",
      "Independent                                                   7\n",
      "Shiv Sena                                                     7\n",
      "Lok Janshakti Party(Ram Vilas)                                5\n",
      "Rashtriya Janata Dal                                          4\n",
      "Communist Party of India (Marxist)                            4\n",
      "Yuvajana Sramika Rythu Congress Party                         4\n",
      "Aam Aadmi Party                                               3\n",
      "Indian Union Muslim League                                    3\n",
      "Jharkhand Mukti Morcha                                        3\n",
      "Janata Dal (Secular)                                          2\n",
      "Rashtriya Lok Dal                                             2\n",
      "Communist Party of India (Marxist-Leninist) (Liberation)      2\n",
      "Janasena Party                                                2\n",
      "Jammu & Kashmir National Conference                           2\n",
      "Communist Party of India                                      2\n",
      "Viduthalai Chiruthaigal Katchi                                2\n",
      "Apna Dal (Soneylal)                                           1\n",
      "Sikkim Krantikari Morcha                                      1\n",
      "Aazad Samaj Party (Kanshi Ram)                                1\n",
      "All India Majlis-E-Ittehadul Muslimeen                        1\n",
      "Marumalarchi Dravida Munnetra Kazhagam                        1\n",
      "United Peoples Party, Liberal                                1\n",
      "Voice of the People Party                                     1\n",
      "Rashtriya Loktantrik Party                                    1\n",
      "Bharat Adivasi Party                                          1\n",
      "Shiromani Akali Dal                                           1\n",
      "Zoram Peoples Movement                                       1\n",
      "Hindustani Awam Morcha (Secular)                              1\n",
      "Nationalist Congress Party                                    1\n",
      "Kerala Congress                                               1\n",
      "Revolutionary Socialist Party                                 1\n",
      "AJSU Party                                                    1\n",
      "Asom Gana Parishad                                            1\n",
      "Name: Leading Party, dtype: int64\n",
      "Indian National Congress                                    167\n",
      "Bharatiya Janata Party                                      153\n",
      "All India Anna Dravida Munnetra Kazhagam                     24\n",
      "Samajwadi Party                                              24\n",
      "Biju Janata Dal                                              21\n",
      "Yuvajana Sramika Rythu Congress Party                        21\n",
      "Rashtriya Janata Dal                                         18\n",
      "Communist Party of India (Marxist)                           17\n",
      "Aam Aadmi Party                                              13\n",
      "All India Trinamool Congress                                 13\n",
      "Shiv Sena (Uddhav Balasaheb Thackrey)                        10\n",
      "Shiv Sena                                                     8\n",
      "Independent                                                   5\n",
      "Communist Party of India                                      4\n",
      "Janata Dal (United)                                           4\n",
      "Desiya Murpokku Dravida Kazhagam                              3\n",
      "Nationalist Congress Party  Sharadchandra Pawar              3\n",
      "Nationalist Congress Party                                    3\n",
      "Vikassheel Insaan Party                                       3\n",
      "Bharat Rashtra Samithi                                        2\n",
      "Bahujan Samaj Party                                           2\n",
      "Jammu & Kashmir Peoples Democratic Party                      2\n",
      "Jharkhand Mukti Morcha                                        2\n",
      "Communist Party of India (Marxist-Leninist) (Liberation)      2\n",
      "Citizen Action Party-Sikkim                                   1\n",
      "Suheldev Bharatiya Samaj Party                                1\n",
      "Telugu Desam                                                  1\n",
      "All India United Democratic Front                             1\n",
      "Assam Jatiya Parishad                                         1\n",
      "Amma Makkal Munnettra Kazagam                                 1\n",
      "Pattali Makkal Katchi                                         1\n",
      "Bodoland Peoples Front                                        1\n",
      "Kerala Congress (M)                                           1\n",
      "All India Majlis-E-Ittehadul Muslimeen                        1\n",
      "Nationalist Democratic Progressive Party                      1\n",
      "Mizo National Front                                           1\n",
      "National People's Party                                       1\n",
      "Naga Peoples Front                                            1\n",
      "Rashtriya Samaj Paksha                                        1\n",
      "Jammu & Kashmir National Conference                           1\n",
      "Janata Dal (Secular)                                          1\n",
      "Apna Dal (Soneylal)                                           1\n",
      "Name: Trailing Party, dtype: int64\n",
      "Result Declared       538\n",
      "Result in Progress      4\n",
      "Uncontested             1\n",
      "Name: Status, dtype: int64\n"
     ]
    }
   ],
   "source": [
    "# Summary statistics for numerical columns\n",
    "print(df.describe())\n",
    "\n",
    "# Summary statistics for object columns\n",
    "print(df.describe(include='object'))\n",
    "\n",
    "# Value counts for categorical columns\n",
    "print(df['Leading Party'].value_counts())\n",
    "print(df['Trailing Party'].value_counts())\n",
    "print(df['Status'].value_counts())"
   ]
  },
  {
   "cell_type": "markdown",
   "id": "69749158",
   "metadata": {},
   "source": [
    "# Distribution of margins"
   ]
  },
  {
   "cell_type": "code",
   "execution_count": 10,
   "id": "f953e746",
   "metadata": {},
   "outputs": [
    {
     "data": {
      "image/png": "[encoded data removed]",
      "text/plain": [
       "<Figure size 720x432 with 1 Axes>"
      ]
     },
     "metadata": {
      "needs_background": "light"
     },
     "output_type": "display_data"
    }
   ],
   "source": [
    "plt.figure(figsize=(10, 6))\n",
    "sns.histplot(df['Margin'], bins=30)\n",
    "plt.title('Distribution of Winning Margins')\n",
    "plt.xlabel('Margin')\n",
    "plt.ylabel('Frequency')\n",
    "plt.show()"
   ]
  },
  {
   "cell_type": "markdown",
   "id": "1ec0ca74",
   "metadata": {},
   "source": [
    "# Leading party count"
   ]
  },
  {
   "cell_type": "code",
   "execution_count": 11,
   "id": "7163b3a4",
   "metadata": {},
   "outputs": [
    {
     "name": "stderr",
     "output_type": "stream",
     "text": [
      "C:\\Users\\Seyjuti Banerjee\\anaconda3\\lib\\site-packages\\matplotlib\\backends\\backend_agg.py:240: RuntimeWarning: Glyph 150 missing from current font.\n",
      "  font.set_text(s, 0.0, flags=flags)\n",
      "C:\\Users\\Seyjuti Banerjee\\anaconda3\\lib\\site-packages\\matplotlib\\backends\\backend_agg.py:240: RuntimeWarning: Glyph 146 missing from current font.\n",
      "  font.set_text(s, 0.0, flags=flags)\n",
      "C:\\Users\\Seyjuti Banerjee\\anaconda3\\lib\\site-packages\\matplotlib\\backends\\backend_agg.py:203: RuntimeWarning: Glyph 150 missing from current font.\n",
      "  font.set_text(s, 0, flags=flags)\n",
      "C:\\Users\\Seyjuti Banerjee\\anaconda3\\lib\\site-packages\\matplotlib\\backends\\backend_agg.py:203: RuntimeWarning: Glyph 146 missing from current font.\n",
      "  font.set_text(s, 0, flags=flags)\n"
     ]
    },
    {
     "data": {
      "image/png": "[encoded data removed]",
      "text/plain": [
       "<Figure size 720x432 with 1 Axes>"
      ]
     },
     "metadata": {
      "needs_background": "light"
     },
     "output_type": "display_data"
    }
   ],
   "source": [
    "plt.figure(figsize=(10, 6))\n",
    "sns.countplot(data=df, x='Leading Party', order=df['Leading Party'].value_counts().index)\n",
    "plt.title('Leading Party Count')\n",
    "plt.xlabel('Party')\n",
    "plt.ylabel('Count')\n",
    "plt.xticks(rotation=90)\n",
    "plt.show()"
   ]
  }
 ],
 "metadata": {
  "kernelspec": {
   "display_name": "Python 3 (ipykernel)",
   "language": "python",
   "name": "python3"
  },
  "language_info": {
   "codemirror_mode": {
    "name": "ipython",
    "version": 3
   },
   "file_extension": ".py",
   "mimetype": "text/x-python",
   "name": "python",
   "nbconvert_exporter": "python",
   "pygments_lexer": "ipython3",
   "version": "3.9.7"
  }
 },
 "nbformat": 4,
 "nbformat_minor": 5
}
